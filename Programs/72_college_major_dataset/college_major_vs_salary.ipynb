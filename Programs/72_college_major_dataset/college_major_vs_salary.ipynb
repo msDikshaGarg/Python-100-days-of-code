{
  "cells": [
    {
      "cell_type": "code",
      "execution_count": 1,
      "metadata": {
        "id": "_OwzPTFWRNcv"
      },
      "outputs": [],
      "source": [
        "import pandas as pd"
      ]
    },
    {
      "cell_type": "code",
      "execution_count": 2,
      "metadata": {
        "id": "v9MdtO_aRxBz"
      },
      "outputs": [],
      "source": [
        "college_data = pd.read_csv(\"salaries_by_college_major.csv\")\n",
        "pd.options.display.float_format = '{:,.2f}'.format"
      ]
    },
    {
      "cell_type": "code",
      "execution_count": 3,
      "metadata": {
        "colab": {
          "base_uri": "https://localhost:8080/",
          "height": 241
        },
        "id": "URQtAFudSBoH",
        "outputId": "c7693506-82ee-4225-8f18-098cf90ffcb2"
      },
      "outputs": [
        {
          "data": {
            "text/html": [
              "<div>\n",
              "<style scoped>\n",
              "    .dataframe tbody tr th:only-of-type {\n",
              "        vertical-align: middle;\n",
              "    }\n",
              "\n",
              "    .dataframe tbody tr th {\n",
              "        vertical-align: top;\n",
              "    }\n",
              "\n",
              "    .dataframe thead th {\n",
              "        text-align: right;\n",
              "    }\n",
              "</style>\n",
              "<table border=\"1\" class=\"dataframe\">\n",
              "  <thead>\n",
              "    <tr style=\"text-align: right;\">\n",
              "      <th></th>\n",
              "      <th>Undergraduate Major</th>\n",
              "      <th>Starting Median Salary</th>\n",
              "      <th>Mid-Career Median Salary</th>\n",
              "      <th>Mid-Career 10th Percentile Salary</th>\n",
              "      <th>Mid-Career 90th Percentile Salary</th>\n",
              "      <th>Group</th>\n",
              "    </tr>\n",
              "  </thead>\n",
              "  <tbody>\n",
              "    <tr>\n",
              "      <th>0</th>\n",
              "      <td>Accounting</td>\n",
              "      <td>46,000.00</td>\n",
              "      <td>77,100.00</td>\n",
              "      <td>42,200.00</td>\n",
              "      <td>152,000.00</td>\n",
              "      <td>Business</td>\n",
              "    </tr>\n",
              "    <tr>\n",
              "      <th>1</th>\n",
              "      <td>Aerospace Engineering</td>\n",
              "      <td>57,700.00</td>\n",
              "      <td>101,000.00</td>\n",
              "      <td>64,300.00</td>\n",
              "      <td>161,000.00</td>\n",
              "      <td>STEM</td>\n",
              "    </tr>\n",
              "    <tr>\n",
              "      <th>2</th>\n",
              "      <td>Agriculture</td>\n",
              "      <td>42,600.00</td>\n",
              "      <td>71,900.00</td>\n",
              "      <td>36,300.00</td>\n",
              "      <td>150,000.00</td>\n",
              "      <td>Business</td>\n",
              "    </tr>\n",
              "    <tr>\n",
              "      <th>3</th>\n",
              "      <td>Anthropology</td>\n",
              "      <td>36,800.00</td>\n",
              "      <td>61,500.00</td>\n",
              "      <td>33,800.00</td>\n",
              "      <td>138,000.00</td>\n",
              "      <td>HASS</td>\n",
              "    </tr>\n",
              "    <tr>\n",
              "      <th>4</th>\n",
              "      <td>Architecture</td>\n",
              "      <td>41,600.00</td>\n",
              "      <td>76,800.00</td>\n",
              "      <td>50,600.00</td>\n",
              "      <td>136,000.00</td>\n",
              "      <td>Business</td>\n",
              "    </tr>\n",
              "  </tbody>\n",
              "</table>\n",
              "</div>"
            ],
            "text/plain": [
              "     Undergraduate Major  Starting Median Salary  Mid-Career Median Salary  \\\n",
              "0             Accounting               46,000.00                 77,100.00   \n",
              "1  Aerospace Engineering               57,700.00                101,000.00   \n",
              "2            Agriculture               42,600.00                 71,900.00   \n",
              "3           Anthropology               36,800.00                 61,500.00   \n",
              "4           Architecture               41,600.00                 76,800.00   \n",
              "\n",
              "   Mid-Career 10th Percentile Salary  Mid-Career 90th Percentile Salary  \\\n",
              "0                          42,200.00                         152,000.00   \n",
              "1                          64,300.00                         161,000.00   \n",
              "2                          36,300.00                         150,000.00   \n",
              "3                          33,800.00                         138,000.00   \n",
              "4                          50,600.00                         136,000.00   \n",
              "\n",
              "      Group  \n",
              "0  Business  \n",
              "1      STEM  \n",
              "2  Business  \n",
              "3      HASS  \n",
              "4  Business  "
            ]
          },
          "execution_count": 3,
          "metadata": {},
          "output_type": "execute_result"
        }
      ],
      "source": [
        "college_data.head()"
      ]
    },
    {
      "cell_type": "markdown",
      "metadata": {
        "id": "DySWocXNUvT8"
      },
      "source": [
        "How many rows does our dataframe have? How many columns does it have?"
      ]
    },
    {
      "cell_type": "code",
      "execution_count": 4,
      "metadata": {
        "colab": {
          "base_uri": "https://localhost:8080/"
        },
        "id": "lvQ0cIe4SW-H",
        "outputId": "fb5c20b8-cfd4-422d-bde8-037d22123598"
      },
      "outputs": [
        {
          "data": {
            "text/plain": [
              "51"
            ]
          },
          "execution_count": 4,
          "metadata": {},
          "output_type": "execute_result"
        }
      ],
      "source": [
        "len(college_data)"
      ]
    },
    {
      "cell_type": "code",
      "execution_count": 5,
      "metadata": {
        "colab": {
          "base_uri": "https://localhost:8080/"
        },
        "id": "yWeRDXsNSbFW",
        "outputId": "e3ce182b-a626-4fba-c005-bd9680fad781"
      },
      "outputs": [
        {
          "data": {
            "text/plain": [
              "6"
            ]
          },
          "execution_count": 5,
          "metadata": {},
          "output_type": "execute_result"
        }
      ],
      "source": [
        "len(college_data.columns)"
      ]
    },
    {
      "cell_type": "code",
      "execution_count": 6,
      "metadata": {
        "colab": {
          "base_uri": "https://localhost:8080/"
        },
        "id": "Yhn5xlemVLRZ",
        "outputId": "4e21a214-8d6c-4549-dd12-d1e9bd4461c5"
      },
      "outputs": [
        {
          "data": {
            "text/plain": [
              "(51, 6)"
            ]
          },
          "execution_count": 6,
          "metadata": {},
          "output_type": "execute_result"
        }
      ],
      "source": [
        "college_data.shape"
      ]
    },
    {
      "cell_type": "markdown",
      "metadata": {
        "id": "OdlzITLfU7qP"
      },
      "source": [
        "What are the labels for the columns? Do the columns have names?"
      ]
    },
    {
      "cell_type": "code",
      "execution_count": 7,
      "metadata": {
        "colab": {
          "base_uri": "https://localhost:8080/"
        },
        "id": "QH0_uZoNUh3P",
        "outputId": "7c19705e-2773-4b55-a414-26b6f7f64eb2"
      },
      "outputs": [
        {
          "data": {
            "text/plain": [
              "Index(['Undergraduate Major', 'Starting Median Salary',\n",
              "       'Mid-Career Median Salary', 'Mid-Career 10th Percentile Salary',\n",
              "       'Mid-Career 90th Percentile Salary', 'Group'],\n",
              "      dtype='object')"
            ]
          },
          "execution_count": 7,
          "metadata": {},
          "output_type": "execute_result"
        }
      ],
      "source": [
        "college_data.columns"
      ]
    },
    {
      "cell_type": "markdown",
      "metadata": {
        "id": "2iX4jghXVUOZ"
      },
      "source": [
        "Are there any missing values in our dataframe? Does our dataframe contain any bad data?"
      ]
    },
    {
      "cell_type": "code",
      "execution_count": 8,
      "metadata": {
        "colab": {
          "base_uri": "https://localhost:8080/"
        },
        "id": "FVA7yLweUkEo",
        "outputId": "ab2bc5dd-9217-4627-d91a-651c63f5da15"
      },
      "outputs": [
        {
          "data": {
            "text/plain": [
              "Undergraduate Major                  0\n",
              "Starting Median Salary               1\n",
              "Mid-Career Median Salary             1\n",
              "Mid-Career 10th Percentile Salary    1\n",
              "Mid-Career 90th Percentile Salary    1\n",
              "Group                                1\n",
              "dtype: int64"
            ]
          },
          "execution_count": 8,
          "metadata": {},
          "output_type": "execute_result"
        }
      ],
      "source": [
        "college_data.isna().sum()"
      ]
    },
    {
      "cell_type": "code",
      "execution_count": 9,
      "metadata": {
        "colab": {
          "base_uri": "https://localhost:8080/"
        },
        "id": "e7pK061uVbRa",
        "outputId": "87eb5656-8f7b-4bfe-bd8f-a51a6cbe905a"
      },
      "outputs": [
        {
          "data": {
            "text/plain": [
              "(50, 6)"
            ]
          },
          "execution_count": 9,
          "metadata": {},
          "output_type": "execute_result"
        }
      ],
      "source": [
        "clean_data = college_data.dropna()\n",
        "clean_data.shape"
      ]
    },
    {
      "cell_type": "markdown",
      "metadata": {
        "id": "lfGv6kZgYQrc"
      },
      "source": [
        "College Major with Highest Starting Salaries"
      ]
    },
    {
      "cell_type": "code",
      "execution_count": 10,
      "metadata": {
        "colab": {
          "base_uri": "https://localhost:8080/"
        },
        "id": "M1CITu5zV3tU",
        "outputId": "597e0ddd-f380-463f-f0a0-bb4ce272a7ea"
      },
      "outputs": [
        {
          "name": "stdout",
          "output_type": "stream",
          "text": [
            "Physician Assistant\n"
          ]
        }
      ],
      "source": [
        "highest_starting_salary = clean_data.loc[clean_data[\"Starting Median Salary\"].idxmax()]\n",
        "print(highest_starting_salary[\"Undergraduate Major\"])"
      ]
    },
    {
      "cell_type": "markdown",
      "metadata": {
        "id": "ScJFKX0HZxgF"
      },
      "source": [
        "What college major has the highest mid-career salary? How much do graduates with this major earn? (Mid-career is defined as having 10+ years of experience)."
      ]
    },
    {
      "cell_type": "code",
      "execution_count": 11,
      "metadata": {
        "colab": {
          "base_uri": "https://localhost:8080/"
        },
        "id": "twBxjO6-ZH0u",
        "outputId": "88ee3c11-7ef5-4c38-ab53-98b4a725a0ca"
      },
      "outputs": [
        {
          "name": "stdout",
          "output_type": "stream",
          "text": [
            "Major: Chemical Engineering, Salary: 107000.0\n"
          ]
        }
      ],
      "source": [
        "highest_mid_career_salary = clean_data.loc[clean_data[\"Mid-Career Median Salary\"].idxmax()]\n",
        "major = highest_mid_career_salary[\"Undergraduate Major\"]\n",
        "salary = highest_mid_career_salary[\"Mid-Career Median Salary\"]\n",
        "print(f\"Major: {major}, Salary: {salary}\")"
      ]
    },
    {
      "cell_type": "markdown",
      "metadata": {
        "id": "GaX6yBw7b4gS"
      },
      "source": [
        "Which college major has the lowest starting salary and how much do graduates earn after university?"
      ]
    },
    {
      "cell_type": "code",
      "execution_count": 12,
      "metadata": {
        "colab": {
          "base_uri": "https://localhost:8080/"
        },
        "id": "AQku9kbwbLZH",
        "outputId": "9d7c4c91-ca64-48fd-c74b-6a917cd228b8"
      },
      "outputs": [
        {
          "name": "stdout",
          "output_type": "stream",
          "text": [
            "Major: Spanish, Starting Salary: 34000.0\n"
          ]
        }
      ],
      "source": [
        "lowest_starting_salary = clean_data.loc[clean_data[\"Starting Median Salary\"].idxmin()]\n",
        "major = lowest_starting_salary[\"Undergraduate Major\"]\n",
        "starting_salary = lowest_starting_salary[\"Starting Median Salary\"]\n",
        "print(f\"Major: {major}, Starting Salary: {starting_salary}\")"
      ]
    },
    {
      "cell_type": "markdown",
      "metadata": {
        "id": "4FQrkGK4c1BE"
      },
      "source": [
        "Which college major has the lowest mid-career salary and how much can people expect to earn with this degree?"
      ]
    },
    {
      "cell_type": "code",
      "execution_count": 13,
      "metadata": {
        "colab": {
          "base_uri": "https://localhost:8080/"
        },
        "id": "tDoU81QJcyDT",
        "outputId": "e7adad76-0517-413d-9d8a-76fd3becd8ea"
      },
      "outputs": [
        {
          "name": "stdout",
          "output_type": "stream",
          "text": [
            "Major: Education, Salary Range: 29300.0 to 102000.0\n"
          ]
        }
      ],
      "source": [
        "lowest_mid_career_salary = clean_data.loc[clean_data[\"Mid-Career Median Salary\"].idxmin()]\n",
        "major = lowest_mid_career_salary[\"Undergraduate Major\"]\n",
        "min_salary = lowest_mid_career_salary[\"Mid-Career 10th Percentile Salary\"]\n",
        "max_salary = lowest_mid_career_salary[\"Mid-Career 90th Percentile Salary\"]\n",
        "print(f\"Major: {major}, Salary Range: {min_salary} to {max_salary}\")"
      ]
    },
    {
      "cell_type": "markdown",
      "metadata": {
        "id": "MKUddCHaEeCA"
      },
      "source": [
        "Lowest Risk Majors"
      ]
    },
    {
      "cell_type": "code",
      "execution_count": 14,
      "metadata": {
        "colab": {
          "base_uri": "https://localhost:8080/",
          "height": 365
        },
        "id": "rDZoLVeoeASS",
        "outputId": "b12856cd-eae5-45fd-ef9e-46826494ef59"
      },
      "outputs": [
        {
          "name": "stderr",
          "output_type": "stream",
          "text": [
            "/var/folders/_6/dvzl7bvj0p11fqcttz084f880000gp/T/ipykernel_24325/323457865.py:1: SettingWithCopyWarning: \n",
            "A value is trying to be set on a copy of a slice from a DataFrame.\n",
            "Try using .loc[row_indexer,col_indexer] = value instead\n",
            "\n",
            "See the caveats in the documentation: https://pandas.pydata.org/pandas-docs/stable/user_guide/indexing.html#returning-a-view-versus-a-copy\n",
            "  clean_data[\"Salary Range Difference\"] = clean_data[\"Mid-Career 90th Percentile Salary\"] - clean_data[\"Mid-Career 10th Percentile Salary\"]\n"
          ]
        },
        {
          "data": {
            "text/html": [
              "<div>\n",
              "<style scoped>\n",
              "    .dataframe tbody tr th:only-of-type {\n",
              "        vertical-align: middle;\n",
              "    }\n",
              "\n",
              "    .dataframe tbody tr th {\n",
              "        vertical-align: top;\n",
              "    }\n",
              "\n",
              "    .dataframe thead th {\n",
              "        text-align: right;\n",
              "    }\n",
              "</style>\n",
              "<table border=\"1\" class=\"dataframe\">\n",
              "  <thead>\n",
              "    <tr style=\"text-align: right;\">\n",
              "      <th></th>\n",
              "      <th>Undergraduate Major</th>\n",
              "      <th>Starting Median Salary</th>\n",
              "      <th>Mid-Career Median Salary</th>\n",
              "      <th>Mid-Career 10th Percentile Salary</th>\n",
              "      <th>Mid-Career 90th Percentile Salary</th>\n",
              "      <th>Group</th>\n",
              "      <th>Salary Range Difference</th>\n",
              "    </tr>\n",
              "  </thead>\n",
              "  <tbody>\n",
              "    <tr>\n",
              "      <th>0</th>\n",
              "      <td>Accounting</td>\n",
              "      <td>46,000.00</td>\n",
              "      <td>77,100.00</td>\n",
              "      <td>42,200.00</td>\n",
              "      <td>152,000.00</td>\n",
              "      <td>Business</td>\n",
              "      <td>109,800.00</td>\n",
              "    </tr>\n",
              "    <tr>\n",
              "      <th>1</th>\n",
              "      <td>Aerospace Engineering</td>\n",
              "      <td>57,700.00</td>\n",
              "      <td>101,000.00</td>\n",
              "      <td>64,300.00</td>\n",
              "      <td>161,000.00</td>\n",
              "      <td>STEM</td>\n",
              "      <td>96,700.00</td>\n",
              "    </tr>\n",
              "    <tr>\n",
              "      <th>2</th>\n",
              "      <td>Agriculture</td>\n",
              "      <td>42,600.00</td>\n",
              "      <td>71,900.00</td>\n",
              "      <td>36,300.00</td>\n",
              "      <td>150,000.00</td>\n",
              "      <td>Business</td>\n",
              "      <td>113,700.00</td>\n",
              "    </tr>\n",
              "    <tr>\n",
              "      <th>3</th>\n",
              "      <td>Anthropology</td>\n",
              "      <td>36,800.00</td>\n",
              "      <td>61,500.00</td>\n",
              "      <td>33,800.00</td>\n",
              "      <td>138,000.00</td>\n",
              "      <td>HASS</td>\n",
              "      <td>104,200.00</td>\n",
              "    </tr>\n",
              "    <tr>\n",
              "      <th>4</th>\n",
              "      <td>Architecture</td>\n",
              "      <td>41,600.00</td>\n",
              "      <td>76,800.00</td>\n",
              "      <td>50,600.00</td>\n",
              "      <td>136,000.00</td>\n",
              "      <td>Business</td>\n",
              "      <td>85,400.00</td>\n",
              "    </tr>\n",
              "  </tbody>\n",
              "</table>\n",
              "</div>"
            ],
            "text/plain": [
              "     Undergraduate Major  Starting Median Salary  Mid-Career Median Salary  \\\n",
              "0             Accounting               46,000.00                 77,100.00   \n",
              "1  Aerospace Engineering               57,700.00                101,000.00   \n",
              "2            Agriculture               42,600.00                 71,900.00   \n",
              "3           Anthropology               36,800.00                 61,500.00   \n",
              "4           Architecture               41,600.00                 76,800.00   \n",
              "\n",
              "   Mid-Career 10th Percentile Salary  Mid-Career 90th Percentile Salary  \\\n",
              "0                          42,200.00                         152,000.00   \n",
              "1                          64,300.00                         161,000.00   \n",
              "2                          36,300.00                         150,000.00   \n",
              "3                          33,800.00                         138,000.00   \n",
              "4                          50,600.00                         136,000.00   \n",
              "\n",
              "      Group  Salary Range Difference  \n",
              "0  Business               109,800.00  \n",
              "1      STEM                96,700.00  \n",
              "2  Business               113,700.00  \n",
              "3      HASS               104,200.00  \n",
              "4  Business                85,400.00  "
            ]
          },
          "execution_count": 14,
          "metadata": {},
          "output_type": "execute_result"
        }
      ],
      "source": [
        "clean_data[\"Salary Range Difference\"] = clean_data[\"Mid-Career 90th Percentile Salary\"] - clean_data[\"Mid-Career 10th Percentile Salary\"]\n",
        "clean_data.head()"
      ]
    },
    {
      "cell_type": "markdown",
      "metadata": {
        "id": "YpA_FSGwq4FB"
      },
      "source": [
        "Find the top 5 degrees with the highest potential.\n",
        "Also, find the degrees with the greatest spread in salaries."
      ]
    },
    {
      "cell_type": "code",
      "execution_count": 15,
      "metadata": {
        "colab": {
          "base_uri": "https://localhost:8080/",
          "height": 206
        },
        "id": "TC8ZwhfnpyqZ",
        "outputId": "754b3e23-5129-43db-a091-86ae8340d6be"
      },
      "outputs": [
        {
          "data": {
            "text/html": [
              "<div>\n",
              "<style scoped>\n",
              "    .dataframe tbody tr th:only-of-type {\n",
              "        vertical-align: middle;\n",
              "    }\n",
              "\n",
              "    .dataframe tbody tr th {\n",
              "        vertical-align: top;\n",
              "    }\n",
              "\n",
              "    .dataframe thead th {\n",
              "        text-align: right;\n",
              "    }\n",
              "</style>\n",
              "<table border=\"1\" class=\"dataframe\">\n",
              "  <thead>\n",
              "    <tr style=\"text-align: right;\">\n",
              "      <th></th>\n",
              "      <th>Undergraduate Major</th>\n",
              "      <th>Mid-Career 90th Percentile Salary</th>\n",
              "    </tr>\n",
              "  </thead>\n",
              "  <tbody>\n",
              "    <tr>\n",
              "      <th>17</th>\n",
              "      <td>Economics</td>\n",
              "      <td>210,000.00</td>\n",
              "    </tr>\n",
              "    <tr>\n",
              "      <th>22</th>\n",
              "      <td>Finance</td>\n",
              "      <td>195,000.00</td>\n",
              "    </tr>\n",
              "    <tr>\n",
              "      <th>8</th>\n",
              "      <td>Chemical Engineering</td>\n",
              "      <td>194,000.00</td>\n",
              "    </tr>\n",
              "    <tr>\n",
              "      <th>37</th>\n",
              "      <td>Math</td>\n",
              "      <td>183,000.00</td>\n",
              "    </tr>\n",
              "    <tr>\n",
              "      <th>44</th>\n",
              "      <td>Physics</td>\n",
              "      <td>178,000.00</td>\n",
              "    </tr>\n",
              "  </tbody>\n",
              "</table>\n",
              "</div>"
            ],
            "text/plain": [
              "     Undergraduate Major  Mid-Career 90th Percentile Salary\n",
              "17             Economics                         210,000.00\n",
              "22               Finance                         195,000.00\n",
              "8   Chemical Engineering                         194,000.00\n",
              "37                  Math                         183,000.00\n",
              "44               Physics                         178,000.00"
            ]
          },
          "execution_count": 15,
          "metadata": {},
          "output_type": "execute_result"
        }
      ],
      "source": [
        "highest_potential = clean_data.sort_values(\"Mid-Career 90th Percentile Salary\", ascending=False)\n",
        "highest_potential[[\"Undergraduate Major\", \"Mid-Career 90th Percentile Salary\"]].head()"
      ]
    },
    {
      "cell_type": "code",
      "execution_count": 16,
      "metadata": {
        "colab": {
          "base_uri": "https://localhost:8080/",
          "height": 206
        },
        "id": "T3tcQ1NSrxUc",
        "outputId": "5fbbfd80-d839-4ba1-8fb9-8c0874a68e44"
      },
      "outputs": [
        {
          "data": {
            "text/html": [
              "<div>\n",
              "<style scoped>\n",
              "    .dataframe tbody tr th:only-of-type {\n",
              "        vertical-align: middle;\n",
              "    }\n",
              "\n",
              "    .dataframe tbody tr th {\n",
              "        vertical-align: top;\n",
              "    }\n",
              "\n",
              "    .dataframe thead th {\n",
              "        text-align: right;\n",
              "    }\n",
              "</style>\n",
              "<table border=\"1\" class=\"dataframe\">\n",
              "  <thead>\n",
              "    <tr style=\"text-align: right;\">\n",
              "      <th></th>\n",
              "      <th>Undergraduate Major</th>\n",
              "      <th>Salary Range Difference</th>\n",
              "    </tr>\n",
              "  </thead>\n",
              "  <tbody>\n",
              "    <tr>\n",
              "      <th>17</th>\n",
              "      <td>Economics</td>\n",
              "      <td>159,400.00</td>\n",
              "    </tr>\n",
              "    <tr>\n",
              "      <th>22</th>\n",
              "      <td>Finance</td>\n",
              "      <td>147,800.00</td>\n",
              "    </tr>\n",
              "    <tr>\n",
              "      <th>37</th>\n",
              "      <td>Math</td>\n",
              "      <td>137,800.00</td>\n",
              "    </tr>\n",
              "    <tr>\n",
              "      <th>36</th>\n",
              "      <td>Marketing</td>\n",
              "      <td>132,900.00</td>\n",
              "    </tr>\n",
              "    <tr>\n",
              "      <th>42</th>\n",
              "      <td>Philosophy</td>\n",
              "      <td>132,500.00</td>\n",
              "    </tr>\n",
              "  </tbody>\n",
              "</table>\n",
              "</div>"
            ],
            "text/plain": [
              "   Undergraduate Major  Salary Range Difference\n",
              "17           Economics               159,400.00\n",
              "22             Finance               147,800.00\n",
              "37                Math               137,800.00\n",
              "36           Marketing               132,900.00\n",
              "42          Philosophy               132,500.00"
            ]
          },
          "execution_count": 16,
          "metadata": {},
          "output_type": "execute_result"
        }
      ],
      "source": [
        "greatest_spread = clean_data.sort_values(\"Salary Range Difference\", ascending=False)\n",
        "greatest_spread[[\"Undergraduate Major\", \"Salary Range Difference\"]].head()"
      ]
    },
    {
      "cell_type": "markdown",
      "metadata": {
        "id": "wo2KbSnqk_T-"
      },
      "source": [
        "For example, which category of degrees has the highest average salary? Is it STEM, Business or HASS (Humanities, Arts, and Social Science)?"
      ]
    },
    {
      "cell_type": "code",
      "execution_count": 20,
      "metadata": {
        "colab": {
          "base_uri": "https://localhost:8080/",
          "height": 192
        },
        "id": "gZvT-Ks0sPWe",
        "outputId": "502086e3-e8e7-4d44-d577-f818db9a6edf"
      },
      "outputs": [
        {
          "data": {
            "text/html": [
              "<div>\n",
              "<style scoped>\n",
              "    .dataframe tbody tr th:only-of-type {\n",
              "        vertical-align: middle;\n",
              "    }\n",
              "\n",
              "    .dataframe tbody tr th {\n",
              "        vertical-align: top;\n",
              "    }\n",
              "\n",
              "    .dataframe thead th {\n",
              "        text-align: right;\n",
              "    }\n",
              "</style>\n",
              "<table border=\"1\" class=\"dataframe\">\n",
              "  <thead>\n",
              "    <tr style=\"text-align: right;\">\n",
              "      <th></th>\n",
              "      <th>Undergraduate Major</th>\n",
              "      <th>Starting Median Salary</th>\n",
              "      <th>Mid-Career Median Salary</th>\n",
              "      <th>Mid-Career 10th Percentile Salary</th>\n",
              "      <th>Mid-Career 90th Percentile Salary</th>\n",
              "      <th>Salary Range Difference</th>\n",
              "    </tr>\n",
              "    <tr>\n",
              "      <th>Group</th>\n",
              "      <th></th>\n",
              "      <th></th>\n",
              "      <th></th>\n",
              "      <th></th>\n",
              "      <th></th>\n",
              "      <th></th>\n",
              "    </tr>\n",
              "  </thead>\n",
              "  <tbody>\n",
              "    <tr>\n",
              "      <th>Business</th>\n",
              "      <td>12</td>\n",
              "      <td>12</td>\n",
              "      <td>12</td>\n",
              "      <td>12</td>\n",
              "      <td>12</td>\n",
              "      <td>12</td>\n",
              "    </tr>\n",
              "    <tr>\n",
              "      <th>HASS</th>\n",
              "      <td>22</td>\n",
              "      <td>22</td>\n",
              "      <td>22</td>\n",
              "      <td>22</td>\n",
              "      <td>22</td>\n",
              "      <td>22</td>\n",
              "    </tr>\n",
              "    <tr>\n",
              "      <th>STEM</th>\n",
              "      <td>16</td>\n",
              "      <td>16</td>\n",
              "      <td>16</td>\n",
              "      <td>16</td>\n",
              "      <td>16</td>\n",
              "      <td>16</td>\n",
              "    </tr>\n",
              "  </tbody>\n",
              "</table>\n",
              "</div>"
            ],
            "text/plain": [
              "          Undergraduate Major  Starting Median Salary  \\\n",
              "Group                                                   \n",
              "Business                   12                      12   \n",
              "HASS                       22                      22   \n",
              "STEM                       16                      16   \n",
              "\n",
              "          Mid-Career Median Salary  Mid-Career 10th Percentile Salary  \\\n",
              "Group                                                                   \n",
              "Business                        12                                 12   \n",
              "HASS                            22                                 22   \n",
              "STEM                            16                                 16   \n",
              "\n",
              "          Mid-Career 90th Percentile Salary  Salary Range Difference  \n",
              "Group                                                                 \n",
              "Business                                 12                       12  \n",
              "HASS                                     22                       22  \n",
              "STEM                                     16                       16  "
            ]
          },
          "execution_count": 20,
          "metadata": {},
          "output_type": "execute_result"
        }
      ],
      "source": [
        "clean_data.groupby(\"Group\").count()"
      ]
    },
    {
      "cell_type": "code",
      "execution_count": 21,
      "metadata": {
        "colab": {
          "base_uri": "https://localhost:8080/",
          "height": 192
        },
        "id": "ND0vP0WUmBp5",
        "outputId": "63cb80eb-db4e-41af-e685-0ea344578baf"
      },
      "outputs": [
        {
          "data": {
            "text/html": [
              "<div>\n",
              "<style scoped>\n",
              "    .dataframe tbody tr th:only-of-type {\n",
              "        vertical-align: middle;\n",
              "    }\n",
              "\n",
              "    .dataframe tbody tr th {\n",
              "        vertical-align: top;\n",
              "    }\n",
              "\n",
              "    .dataframe thead th {\n",
              "        text-align: right;\n",
              "    }\n",
              "</style>\n",
              "<table border=\"1\" class=\"dataframe\">\n",
              "  <thead>\n",
              "    <tr style=\"text-align: right;\">\n",
              "      <th></th>\n",
              "      <th>Starting Median Salary</th>\n",
              "      <th>Mid-Career Median Salary</th>\n",
              "      <th>Mid-Career 10th Percentile Salary</th>\n",
              "      <th>Mid-Career 90th Percentile Salary</th>\n",
              "      <th>Salary Range Difference</th>\n",
              "    </tr>\n",
              "    <tr>\n",
              "      <th>Group</th>\n",
              "      <th></th>\n",
              "      <th></th>\n",
              "      <th></th>\n",
              "      <th></th>\n",
              "      <th></th>\n",
              "    </tr>\n",
              "  </thead>\n",
              "  <tbody>\n",
              "    <tr>\n",
              "      <th>Business</th>\n",
              "      <td>44,633.33</td>\n",
              "      <td>75,083.33</td>\n",
              "      <td>43,566.67</td>\n",
              "      <td>147,525.00</td>\n",
              "      <td>103,958.33</td>\n",
              "    </tr>\n",
              "    <tr>\n",
              "      <th>HASS</th>\n",
              "      <td>37,186.36</td>\n",
              "      <td>62,968.18</td>\n",
              "      <td>34,145.45</td>\n",
              "      <td>129,363.64</td>\n",
              "      <td>95,218.18</td>\n",
              "    </tr>\n",
              "    <tr>\n",
              "      <th>STEM</th>\n",
              "      <td>53,862.50</td>\n",
              "      <td>90,812.50</td>\n",
              "      <td>56,025.00</td>\n",
              "      <td>157,625.00</td>\n",
              "      <td>101,600.00</td>\n",
              "    </tr>\n",
              "  </tbody>\n",
              "</table>\n",
              "</div>"
            ],
            "text/plain": [
              "          Starting Median Salary  Mid-Career Median Salary  \\\n",
              "Group                                                        \n",
              "Business               44,633.33                 75,083.33   \n",
              "HASS                   37,186.36                 62,968.18   \n",
              "STEM                   53,862.50                 90,812.50   \n",
              "\n",
              "          Mid-Career 10th Percentile Salary  \\\n",
              "Group                                         \n",
              "Business                          43,566.67   \n",
              "HASS                              34,145.45   \n",
              "STEM                              56,025.00   \n",
              "\n",
              "          Mid-Career 90th Percentile Salary  Salary Range Difference  \n",
              "Group                                                                 \n",
              "Business                         147,525.00               103,958.33  \n",
              "HASS                             129,363.64                95,218.18  \n",
              "STEM                             157,625.00               101,600.00  "
            ]
          },
          "execution_count": 21,
          "metadata": {},
          "output_type": "execute_result"
        }
      ],
      "source": [
        "to_group = clean_data.drop(columns=[\"Undergraduate Major\"])\n",
        "to_group.groupby(\"Group\").mean()"
      ]
    },
    {
      "cell_type": "code",
      "execution_count": 22,
      "metadata": {
        "id": "lbMNlVlDt6BY"
      },
      "outputs": [],
      "source": [
        "highest_avg_salary = to_group.groupby(\"Group\").mean()\n"
      ]
    },
    {
      "cell_type": "code",
      "execution_count": null,
      "metadata": {},
      "outputs": [],
      "source": []
    }
  ],
  "metadata": {
    "colab": {
      "provenance": []
    },
    "kernelspec": {
      "display_name": "Python 3",
      "name": "python3"
    },
    "language_info": {
      "codemirror_mode": {
        "name": "ipython",
        "version": 3
      },
      "file_extension": ".py",
      "mimetype": "text/x-python",
      "name": "python",
      "nbconvert_exporter": "python",
      "pygments_lexer": "ipython3",
      "version": "3.9.16"
    }
  },
  "nbformat": 4,
  "nbformat_minor": 0
}
